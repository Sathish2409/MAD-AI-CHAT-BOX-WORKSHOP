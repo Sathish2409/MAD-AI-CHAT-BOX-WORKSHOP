{
 "cells": [
  {
   "cell_type": "markdown",
   "metadata": {},
   "source": [
    "<h1 style=\"color:red\">MADs AI Chatbot dev. Workshop Day 3 ASSIGNMENT 2</h1>"
   ]
  },
  {
   "cell_type": "code",
   "execution_count": 1,
   "metadata": {},
   "outputs": [],
   "source": [
    "import numpy as np\n",
    "import pandas as pd\n",
    "from sklearn.feature_extraction.text import TfidfVectorizer\n",
    "from sklearn.svm import LinearSVC  #importing machine learning classification algorithm\n",
    "import random\n",
    "import pickle"
   ]
  },
  {
   "cell_type": "code",
   "execution_count": 2,
   "metadata": {},
   "outputs": [],
   "source": [
    "# training data\n",
    "data = [[\"Is Chatbot dev course available?\",1],[\"Are there seats available for course?\",1],[\"I want to enroll in Chatbot Development course\",1],[\"Hi Good Morning\",0],[\"Hello madian\",0],[\"heya\",0],[\"Goodbye\",4],['Byebye',4],['Bye',4]]"
   ]
  },
  {
   "cell_type": "code",
   "execution_count": 3,
   "metadata": {},
   "outputs": [],
   "source": [
    "data = [[\"Hi\",0],[\"Hello\",0],[\"Is the snackbar sales opened?\",1],[\"Can I have the menu card?\",2],[\"Order one samosa and one hot drinks?\",3],[\"Is e-transactions availble?\",4],[\"ok i will pay in cash amount\",5],[\"Is my order ready\",6],[\"Goodbye\",7],['Byebye',7],['Bye',7]]"
   ]
  },
  {
   "cell_type": "code",
   "execution_count": 4,
   "metadata": {},
   "outputs": [],
   "source": [
    "#converting it into pandas dataframe\n",
    "df = pd.DataFrame(data, columns = ['text', 'intent'])"
   ]
  },
  {
   "cell_type": "code",
   "execution_count": 5,
   "metadata": {},
   "outputs": [
    {
     "data": {
      "text/html": [
       "<div>\n",
       "<style scoped>\n",
       "    .dataframe tbody tr th:only-of-type {\n",
       "        vertical-align: middle;\n",
       "    }\n",
       "\n",
       "    .dataframe tbody tr th {\n",
       "        vertical-align: top;\n",
       "    }\n",
       "\n",
       "    .dataframe thead th {\n",
       "        text-align: right;\n",
       "    }\n",
       "</style>\n",
       "<table border=\"1\" class=\"dataframe\">\n",
       "  <thead>\n",
       "    <tr style=\"text-align: right;\">\n",
       "      <th></th>\n",
       "      <th>text</th>\n",
       "      <th>intent</th>\n",
       "    </tr>\n",
       "  </thead>\n",
       "  <tbody>\n",
       "    <tr>\n",
       "      <th>0</th>\n",
       "      <td>Hi</td>\n",
       "      <td>0</td>\n",
       "    </tr>\n",
       "    <tr>\n",
       "      <th>1</th>\n",
       "      <td>Hello</td>\n",
       "      <td>0</td>\n",
       "    </tr>\n",
       "    <tr>\n",
       "      <th>2</th>\n",
       "      <td>Is the snackbar sales opened?</td>\n",
       "      <td>1</td>\n",
       "    </tr>\n",
       "    <tr>\n",
       "      <th>3</th>\n",
       "      <td>Can I have the menu card?</td>\n",
       "      <td>2</td>\n",
       "    </tr>\n",
       "    <tr>\n",
       "      <th>4</th>\n",
       "      <td>Order one samosa and one hot drinks?</td>\n",
       "      <td>3</td>\n",
       "    </tr>\n",
       "    <tr>\n",
       "      <th>5</th>\n",
       "      <td>Is e-transactions availble?</td>\n",
       "      <td>4</td>\n",
       "    </tr>\n",
       "    <tr>\n",
       "      <th>6</th>\n",
       "      <td>ok i will pay in cash amount</td>\n",
       "      <td>5</td>\n",
       "    </tr>\n",
       "    <tr>\n",
       "      <th>7</th>\n",
       "      <td>Is my order ready</td>\n",
       "      <td>6</td>\n",
       "    </tr>\n",
       "    <tr>\n",
       "      <th>8</th>\n",
       "      <td>Goodbye</td>\n",
       "      <td>7</td>\n",
       "    </tr>\n",
       "    <tr>\n",
       "      <th>9</th>\n",
       "      <td>Byebye</td>\n",
       "      <td>7</td>\n",
       "    </tr>\n",
       "    <tr>\n",
       "      <th>10</th>\n",
       "      <td>Bye</td>\n",
       "      <td>7</td>\n",
       "    </tr>\n",
       "  </tbody>\n",
       "</table>\n",
       "</div>"
      ],
      "text/plain": [
       "                                    text  intent\n",
       "0                                     Hi       0\n",
       "1                                  Hello       0\n",
       "2          Is the snackbar sales opened?       1\n",
       "3              Can I have the menu card?       2\n",
       "4   Order one samosa and one hot drinks?       3\n",
       "5            Is e-transactions availble?       4\n",
       "6           ok i will pay in cash amount       5\n",
       "7                      Is my order ready       6\n",
       "8                                Goodbye       7\n",
       "9                                 Byebye       7\n",
       "10                                   Bye       7"
      ]
     },
     "execution_count": 5,
     "metadata": {},
     "output_type": "execute_result"
    }
   ],
   "source": [
    "df   #1 -> availability and 0 -> greeting"
   ]
  },
  {
   "cell_type": "code",
   "execution_count": 6,
   "metadata": {},
   "outputs": [],
   "source": [
    "x = df['text']   #seperating x from data\n",
    "y = df['intent']   # seperating y from data (intents are encoded into numbers as machine can only predict numbers)"
   ]
  },
  {
   "cell_type": "code",
   "execution_count": 7,
   "metadata": {},
   "outputs": [],
   "source": [
    "vectorizer = TfidfVectorizer()\n",
    "X = vectorizer.fit_transform(x)  # X has tfidfed vectors"
   ]
  },
  {
   "cell_type": "code",
   "execution_count": 8,
   "metadata": {},
   "outputs": [],
   "source": [
    "clf  = LinearSVC(max_iter=800, C=0.1) #initializing the classifier"
   ]
  },
  {
   "cell_type": "code",
   "execution_count": 9,
   "metadata": {},
   "outputs": [
    {
     "data": {
      "text/plain": [
       "LinearSVC(C=0.1, max_iter=800)"
      ]
     },
     "execution_count": 9,
     "metadata": {},
     "output_type": "execute_result"
    }
   ],
   "source": [
    "clf.fit(X,y) #creating the model. after fitting model is ready"
   ]
  },
  {
   "cell_type": "code",
   "execution_count": 10,
   "metadata": {},
   "outputs": [],
   "source": [
    "text_test = [\"Is the snackbar sales opened?\"]   #let's test it on test data. Keep test data into array"
   ]
  },
  {
   "cell_type": "code",
   "execution_count": 11,
   "metadata": {},
   "outputs": [],
   "source": [
    "X_test = vectorizer.transform(text_test) #converting text data into vectors"
   ]
  },
  {
   "cell_type": "code",
   "execution_count": 12,
   "metadata": {},
   "outputs": [],
   "source": [
    "prediction=clf.predict(X_test)"
   ]
  },
  {
   "cell_type": "code",
   "execution_count": 13,
   "metadata": {},
   "outputs": [
    {
     "name": "stdout",
     "output_type": "stream",
     "text": [
      "[1]\n"
     ]
    }
   ],
   "source": [
    "print(prediction) #yes we predicted it right"
   ]
  },
  {
   "cell_type": "markdown",
   "metadata": {},
   "source": [
    "<h3>Saving and loading the model</h3>"
   ]
  },
  {
   "cell_type": "code",
   "execution_count": 14,
   "metadata": {},
   "outputs": [],
   "source": [
    "pickle.dump(clf,open(\"model.pkl\", 'wb')) #saving"
   ]
  },
  {
   "cell_type": "code",
   "execution_count": 15,
   "metadata": {},
   "outputs": [],
   "source": [
    "load_model = pickle.load(open(\"model.pkl\", 'rb')) #loading"
   ]
  },
  {
   "cell_type": "code",
   "execution_count": 16,
   "metadata": {},
   "outputs": [
    {
     "data": {
      "text/plain": [
       "array([1], dtype=int64)"
      ]
     },
     "execution_count": 16,
     "metadata": {},
     "output_type": "execute_result"
    }
   ],
   "source": [
    "load_model.predict(X_test) #predicting using loaded model"
   ]
  },
  {
   "cell_type": "markdown",
   "metadata": {},
   "source": [
    "<h3>MINI Dataset</h3>"
   ]
  },
  {
   "cell_type": "code",
   "execution_count": 17,
   "metadata": {},
   "outputs": [],
   "source": [
    "responses = {0 : {\"intent\":\"greetings\",\"response\":['Hi dear','How are you?','Watsupp dude']}, \n",
    "      1 : {\"intent\":\"availability\",\"response\":['Yes Yes it is available ','Yes seats are available',\n",
    "                                               'Ofcourse there are seats for you']}}"
   ]
  },
  {
   "cell_type": "code",
   "execution_count": null,
   "metadata": {},
   "outputs": [],
   "source": [
    "responses = {0 : {\"intent\":\"greetings\",\"response\":['Hi! How can I help you?']},\n",
    "             1 : {\"intent\":\"sales opened\",\"response\":['Yes the shop is opened']},\n",
    "             2 : {\"intent\":\"menu card\",\"response\":['samosa per piece is 10 Rs/-' \n",
    "                                         'Veg puff per piece is 12 Rs/-'\n",
    "                                         'Egg puff per piece is 15 Rs/-'\n",
    "                                         'Butter Bun per piece is 20 Rs/-'\n",
    "                                         'Jam Bun per piece is 10 Rs/-'\n",
    "                                         'Britania biscuit per piece is 10 0r 5 Rs/-'\n",
    "                                         'Hot drinks per piece is 10 Rs/-'\n",
    "                                         'Cool drinks per piece is 15 Rs/-']},\n",
    "             3 : {\"intent\":\"place order\",\"response\":['You have to pay a total amount of 20 Rs/-']},\n",
    "             4 : {\"intent\":\"e-transaction\",\"response\":['Sorry the snackbar shop is under development and soon it will be updated  with e-transaction options']},\n",
    "             5: {\"intent\":\"cash\",\"response\":['Your order is placed and under preparation.So, plz wait!']},\n",
    "             6: {\"intent\":\"Order Ready\",\"response\":['Yeah your order is ready and here it is.Enjoy your time at snackbar!']},\n",
    "             7: {\"intent\":\"Bot greeting\",\"response\":['If you liked the experience, VISIT AGAIN!']}}\n",
    "print(responses)"
   ]
  },
  {
   "cell_type": "markdown",
   "metadata": {},
   "source": [
    "<h1>After training deploying model for chatbot</h1>"
   ]
  },
  {
   "cell_type": "code",
   "execution_count": null,
   "metadata": {},
   "outputs": [],
   "source": [
    "def response(user_response):\n",
    "    text_test = [user_response]\n",
    "    X_test = vectorizer.transform(text_test)\n",
    "    prediction = clf.predict(X_test)\n",
    "    reply = random.choice(responses[prediction[0]][\"response\"])\n",
    "    return reply"
   ]
  },
  {
   "cell_type": "code",
   "execution_count": null,
   "metadata": {},
   "outputs": [],
   "source": [
    "flag=True\n",
    "print(\"SNACKBOT: My name is Billig Bot. I will produce the bill amount based on your order!. If you want to exit, type Bye!\")\n",
    "while(flag==True):\n",
    "    user_response = input()\n",
    "    user_response=user_response.lower()\n",
    "    if(user_response!='bye'):\n",
    "        if(user_response=='thanks' or user_response=='thank you' ):\n",
    "            flag=False\n",
    "            print(\"SNACKBOT: You are welcome..\")\n",
    "        else:\n",
    "            print(\"SNACKBOT: \",end=\"\")\n",
    "            print(response(user_response))        \n",
    "    else:\n",
    "        flag=False\n",
    "        print(\"SNACKBOT: Bye! Stay Connected here! Stay Healthy.\")"
   ]
  },
  {
   "cell_type": "code",
   "execution_count": null,
   "metadata": {},
   "outputs": [],
   "source": [
    "import requests\n",
    "import json\n",
    "\n",
    "class telegram_bot():\n",
    "    def __init__(self):\n",
    "        self.token = \"1272392606:AAEsYQ-ttgBcMN-mtJlsLwIbiKsagBxqN6A\"    #write your token here!  \n",
    "    \n",
    "        self.url = f\"https://api.telegram.org/bot{self.token}\"\n",
    "\n",
    "    def get_updates(self,offset=None):\n",
    "        url = self.url+\"/getUpdates?timeout=100\"\n",
    "        if offset:\n",
    "            url = url+f\"&offset={offset+1}\"\n",
    "        url_info = requests.get(url)\n",
    "        return json.loads(url_info.content)\n",
    "\n",
    "    def send_message(self,msg,chat_id):\n",
    "        url = self.url + f\"/sendMessage?chat_id={chat_id}&text={msg}\"\n",
    "        if msg is not None:\n",
    "            requests.get(url)\n",
    "\n",
    "    def grab_token(self):\n",
    "        return tokens"
   ]
  },
  {
   "cell_type": "code",
   "execution_count": null,
   "metadata": {},
   "outputs": [],
   "source": [
    "tbot = telegram_bot()\n",
    "\n",
    "update_id = None\n",
    "\n",
    "def make_reply(msg):\n",
    "    if msg is not None:\n",
    "        user_response = msg\n",
    "        user_response=user_response.lower()\n",
    "        if(user_response!='bye'):\n",
    "            if(user_response=='thanks' or user_response=='thank you' ):\n",
    "                print(\"SNACKBOT: You are welcome..\")\n",
    "            else:\n",
    "                temp = response(user_response)\n",
    "                return temp\n",
    "        else:\n",
    "            flag=False\n",
    "            return \"SNACKBOT: Bye! Stay Connected here! Stay Healthy.\"\n",
    "\n",
    "while True:\n",
    "    print(\"...\")\n",
    "    updates = tbot.get_updates(offset=update_id)\n",
    "    updates = updates['result']\n",
    "    print(updates)\n",
    "    if updates:\n",
    "        for item in updates:\n",
    "            update_id = item[\"update_id\"]\n",
    "            print(update_id)\n",
    "            try:\n",
    "                message = item[\"message\"][\"text\"]\n",
    "                print(message)\n",
    "            except:\n",
    "                message = None\n",
    "            from_ = item[\"message\"][\"from\"][\"id\"]\n",
    "            print(from_)\n",
    "\n",
    "            reply = make_reply(message)\n",
    "            tbot.send_message(reply,from_)"
   ]
  },
  {
   "cell_type": "code",
   "execution_count": null,
   "metadata": {},
   "outputs": [],
   "source": []
  }
 ],
 "metadata": {
  "kernelspec": {
   "display_name": "Python 3",
   "language": "python",
   "name": "python3"
  },
  "language_info": {
   "codemirror_mode": {
    "name": "ipython",
    "version": 3
   },
   "file_extension": ".py",
   "mimetype": "text/x-python",
   "name": "python",
   "nbconvert_exporter": "python",
   "pygments_lexer": "ipython3",
   "version": "3.6.10"
  }
 },
 "nbformat": 4,
 "nbformat_minor": 4
}
