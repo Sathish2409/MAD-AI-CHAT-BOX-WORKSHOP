{
 "cells": [
  {
   "cell_type": "code",
   "execution_count": 32,
   "metadata": {
    "colab": {},
    "colab_type": "code",
    "id": "xImuydKNPpIk"
   },
   "outputs": [],
   "source": [
    "import nltk\n",
    "import numpy as np\n",
    "import string\n",
    "import warnings\n",
    "warnings.filterwarnings(\"ignore\")"
   ]
  },
  {
   "cell_type": "code",
   "execution_count": 33,
   "metadata": {
    "colab": {},
    "colab_type": "code",
    "id": "6CdL9ulEPpIr"
   },
   "outputs": [],
   "source": [
    "para = \"\"\"Coronaviruses are a large family of viruses which may cause illness in animals or humans.  In humans, several coronaviruses are known to cause respiratory infections ranging from the common cold to more severe diseases such as Middle East Respiratory Syndrome (MERS) and Severe Acute Respiratory Syndrome (SARS). The most recently discovered coronavirus causes coronavirus disease COVID-19.COVID-19 is the infectious disease caused by the most recently discovered coronavirus. This new virus and disease were unknown before the outbreak began in Wuhan, China, in December 2019. COVID-19 is now a pandemic affecting many countries globally. Studies have shown that the COVID-19 virus can survive for up to 72 hours on plastic and stainless steel, less than 4 hours on copper and less than 24 hours on cardboard. The most common symptoms of covid-19 viruses are fever, dry cough, and tiredness. The following are the safety practice to be followed to prevent the spread of covid-19 viruses such as Clean your hands often, Use soap and water, or an alcohol-based hand rub,Maintain a safe distance from anyone who is coughing or sneezing,Wear a mask when physical distancing is not possible.The covid 19 virus originated from chinese town yuhan. The disease later spread to america, italy. Today the disease the is spread all over the world! In tamil nadu the total covid-19 cases crosses 2 lakhs and the active cases in tamil nadu is around 50,000.\"\"\""
   ]
  },
  {
   "cell_type": "code",
   "execution_count": 34,
   "metadata": {
    "colab": {},
    "colab_type": "code",
    "id": "N7k-WooqPpI2"
   },
   "outputs": [],
   "source": [
    "sent_tokens = nltk.sent_tokenize(para)\n",
    "word_tokens = nltk.word_tokenize(para)"
   ]
  },
  {
   "cell_type": "code",
   "execution_count": 35,
   "metadata": {
    "colab": {},
    "colab_type": "code",
    "id": "eEw-wFpbPpI6"
   },
   "outputs": [],
   "source": [
    "lemmer = nltk.stem.WordNetLemmatizer()"
   ]
  },
  {
   "cell_type": "code",
   "execution_count": 36,
   "metadata": {
    "colab": {},
    "colab_type": "code",
    "id": "dKOARR8gPpI-"
   },
   "outputs": [],
   "source": [
    "def LemTokens(tokens):\n",
    "    return [lemmer.lemmatize(token) for token in tokens]"
   ]
  },
  {
   "cell_type": "code",
   "execution_count": 37,
   "metadata": {
    "colab": {},
    "colab_type": "code",
    "id": "fl28TZ0fPpJD"
   },
   "outputs": [],
   "source": [
    "remove_punct_dict = dict((ord(punct), None) for punct in string.punctuation)"
   ]
  },
  {
   "cell_type": "code",
   "execution_count": 38,
   "metadata": {
    "colab": {},
    "colab_type": "code",
    "id": "epLmEctdPpJI"
   },
   "outputs": [],
   "source": [
    "def Normalize(text):\n",
    "    return LemTokens(nltk.word_tokenize(text.lower().translate(remove_punct_dict)))"
   ]
  },
  {
   "cell_type": "code",
   "execution_count": 39,
   "metadata": {
    "colab": {},
    "colab_type": "code",
    "id": "ez89h-r3PpJM"
   },
   "outputs": [],
   "source": [
    "from sklearn.feature_extraction.text import TfidfVectorizer\n",
    "from sklearn.metrics.pairwise import cosine_similarity"
   ]
  },
  {
   "cell_type": "code",
   "execution_count": 40,
   "metadata": {
    "colab": {},
    "colab_type": "code",
    "id": "SDtLQ8bRPpJQ"
   },
   "outputs": [],
   "source": [
    "def response(user_response):\n",
    "    robo_response=''\n",
    "    sent_tokens.append(user_response)\n",
    "    TfidfVec = TfidfVectorizer(tokenizer=Normalize, stop_words='english')\n",
    "    tfidf = TfidfVec.fit_transform(sent_tokens)\n",
    "    vals = cosine_similarity(tfidf[-1], tfidf)   \n",
    "    idx=vals.argsort()[0][-2]\n",
    "    flat = vals.flatten() \n",
    "    flat.sort()\n",
    "    req_tfidf = flat[-2]\n",
    "    if(req_tfidf==0):\n",
    "        robo_response=robo_response+\"I am sorry! I don't have the required details right now! Please try after some time\"\n",
    "        return robo_response\n",
    "    else:\n",
    "        robo_response = robo_response+sent_tokens[idx]\n",
    "        return robo_response"
   ]
  },
  {
   "cell_type": "code",
   "execution_count": 42,
   "metadata": {
    "colab": {},
    "colab_type": "code",
    "id": "2-lh-OMAPpJW",
    "outputId": "673c3f82-de91-4397-ee9d-da54c5f50c68"
   },
   "outputs": [
    {
     "name": "stdout",
     "output_type": "stream",
     "text": [
      "Hello: My name is COVID_19_Care_bot. I will answer everything about covid_19. If you want to leave, type Bye!\n",
      "What are corona viruses?\n",
      "COVID_19_Care_bot.: Coronaviruses are a large family of viruses which may cause illness in animals or humans.\n",
      "What kind of respiratory inspections does the corona viruses causes?\n",
      "COVID_19_Care_bot.: In humans, several coronaviruses are known to cause respiratory infections ranging from the common cold to more severe diseases such as Middle East Respiratory Syndrome (MERS) and Severe Acute Respiratory Syndrome (SARS).\n",
      "Does coronovirusus causes covid-19? \n",
      "COVID_19_Care_bot.: Coronaviruses are a large family of viruses which may cause illness in animals or humans.\n",
      " What are the total covid-19 cases in tamil nadu?\n",
      "COVID_19_Care_bot.: In tamil nadu the total covid-19 cases crosses 2 lakhs and the active cases in tamil nadu is around 50,000.\n",
      "what are the most common symptoms of covid-19 viruses?\n",
      "COVID_19_Care_bot.: The most common symptoms of covid-19 viruses are fever, dry cough, and tiredness.\n",
      " What are the safety practises of covid-19 to be followed?\n",
      "COVID_19_Care_bot.: The following are the safety practice to be followed to prevent the spread of covid-19 viruses such as Clean your hands often, Use soap and water, or an alcohol-based hand rub,Maintain a safe distance from anyone who is coughing or sneezing,Wear a mask when physical distancing is not possible.The covid 19 virus originated from chinese town yuhan.\n",
      "bye\n",
      "COVID_19_Care_bot.: Bye! Stay Attentive Stay Safe!.\n"
     ]
    }
   ],
   "source": [
    "flag=True\n",
    "print(\"Hello: My name is COVID_19_Care_bot. I will answer everything about covid_19. If you want to leave, type Bye!\")\n",
    "while(flag==True):\n",
    "    user_response = input()\n",
    "    user_response=user_response.lower()\n",
    "    if(user_response!='bye'):\n",
    "        if(user_response=='thanks' or user_response=='thank you' ):\n",
    "            flag=False\n",
    "            print(\"COVID_19_Care_bot.: You are welcome! Hope I have addressed your querries\")\n",
    "        else:\n",
    "            print(\"COVID_19_Care_bot.: \",end=\"\")\n",
    "            print(response(user_response))\n",
    "            sent_tokens.remove(user_response)        \n",
    "    else:\n",
    "        flag=False\n",
    "        print(\"COVID_19_Care_bot.: Bye! Stay Attentive Stay Safe!.\")"
   ]
  },
  {
   "cell_type": "code",
   "execution_count": 43,
   "metadata": {
    "colab": {},
    "colab_type": "code",
    "id": "OdaTH01JPpJc",
    "scrolled": true
   },
   "outputs": [],
   "source": [
    "import requests\n",
    "import json\n",
    "\n",
    "class telegram_bot():\n",
    "    def __init__(self):\n",
    "        self.token = \"1185129599:AAE5Se-Q5nhWZfBwtVrxv-bjfMCqrop8Glw\"    #write your token here!\n",
    "        self.url = f\"https://api.telegram.org/bot{self.token}\"\n",
    "\n",
    "    def get_updates(self,offset=None):\n",
    "        url = self.url+\"/getUpdates?timeout=100\"\n",
    "        if offset:\n",
    "            url = url+f\"&offset={offset+1}\"\n",
    "        url_info = requests.get(url)\n",
    "        return json.loads(url_info.content)\n",
    "\n",
    "    def send_message(self,msg,chat_id):\n",
    "        url = self.url + f\"/sendMessage?chat_id={chat_id}&text={msg}\"\n",
    "        if msg is not None:\n",
    "            requests.get(url)\n",
    "\n",
    "    def grab_token(self):\n",
    "        return tokens"
   ]
  },
  {
   "cell_type": "code",
   "execution_count": null,
   "metadata": {},
   "outputs": [
    {
     "name": "stdout",
     "output_type": "stream",
     "text": [
      "[]\n",
      "...\n"
     ]
    }
   ],
   "source": [
    "tbot = telegram_bot()\n",
    "\n",
    "update_id = None\n",
    "\n",
    "def make_reply(msg):\n",
    "    if msg is not None:\n",
    "        user_response = msg\n",
    "        user_response=user_response.lower()\n",
    "        if(user_response!='bye'):\n",
    "            if(user_response=='thanks' or user_response=='thank you' ):\n",
    "                return \"MAD: You are welcome..\"\n",
    "            else:\n",
    "                temp = response(user_response)\n",
    "                sent_tokens.remove(user_response)   \n",
    "                return temp\n",
    "        else:\n",
    "            flag=False\n",
    "            return \"MAD: Bye! Stay MAD Stay Creative.\"\n",
    "\n",
    "while True:\n",
    "    print(\"...\")\n",
    "    updates = tbot.get_updates(offset=update_id)\n",
    "    updates = updates['result']\n",
    "    print(updates)\n",
    "    if updates:\n",
    "        for item in updates:\n",
    "            update_id = item[\"update_id\"]\n",
    "            print(update_id)\n",
    "            try:\n",
    "                message = item[\"message\"][\"text\"]\n",
    "                print(message)\n",
    "            except:\n",
    "                message = None\n",
    "            from_ = item[\"message\"][\"from\"][\"id\"]\n",
    "            print(from_)\n",
    "\n",
    "            reply = make_reply(message)\n",
    "            tbot.send_message(reply,from_)"
   ]
  }
 ],
 "metadata": {
  "colab": {
   "name": "data_driven_bot (1).ipynb",
   "provenance": []
  },
  "kernelspec": {
   "display_name": "Python 3",
   "language": "python",
   "name": "python3"
  },
  "language_info": {
   "codemirror_mode": {
    "name": "ipython",
    "version": 3
   },
   "file_extension": ".py",
   "mimetype": "text/x-python",
   "name": "python",
   "nbconvert_exporter": "python",
   "pygments_lexer": "ipython3",
   "version": "3.6.10"
  }
 },
 "nbformat": 4,
 "nbformat_minor": 1
}
